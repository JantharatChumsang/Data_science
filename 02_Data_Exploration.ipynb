{
  "nbformat": 4,
  "nbformat_minor": 0,
  "metadata": {
    "kernelspec": {
      "display_name": "Python 3",
      "language": "python",
      "name": "python3"
    },
    "language_info": {
      "codemirror_mode": {
        "name": "ipython",
        "version": 3
      },
      "file_extension": ".py",
      "mimetype": "text/x-python",
      "name": "python",
      "nbconvert_exporter": "python",
      "pygments_lexer": "ipython3",
      "version": "3.8.5"
    },
    "colab": {
      "name": "02 - Data Exploration.ipynb",
      "provenance": []
    }
  },
  "cells": [
    {
      "cell_type": "markdown",
      "metadata": {
        "id": "dYsrZk0UmFfo"
      },
      "source": [
        "<img src=\"http://bigdataexperience.org/BX/wp-content/uploads/2016/05/BX-FULL.png\" width=\"200\" height=\"200\" alt=\"Big Data Experience Center, King Mongkut's University of Technology Thonburi\">"
      ]
    },
    {
      "cell_type": "markdown",
      "metadata": {
        "id": "3NzKkzcmmFfq"
      },
      "source": [
        "# <center>Data Science</center>\n",
        "# <center>2 - Tabular Data</center>\n",
        "---"
      ]
    },
    {
      "cell_type": "code",
      "metadata": {
        "colab": {
          "base_uri": "https://localhost:8080/"
        },
        "id": "-awEYULAoJ7t",
        "outputId": "9d9ed9a5-1c82-4338-e180-60f31b6f8e35"
      },
      "source": [
        "from google.colab import drive\n",
        "drive.mount('/content/drive')"
      ],
      "execution_count": null,
      "outputs": [
        {
          "output_type": "stream",
          "text": [
            "Mounted at /content/drive\n"
          ],
          "name": "stdout"
        }
      ]
    },
    {
      "cell_type": "markdown",
      "metadata": {
        "id": "Q9HuwA4zmFft"
      },
      "source": [
        "# 1. Load and preprocess data"
      ]
    },
    {
      "cell_type": "markdown",
      "metadata": {
        "id": "UMsLVpvHmFfu"
      },
      "source": [
        "## 1.1 Load data"
      ]
    },
    {
      "cell_type": "code",
      "metadata": {
        "id": "AnOWBnZQmFfv"
      },
      "source": [
        "import pandas as pd\n",
        "telcoData = pd.read_csv('/content/drive/MyDrive/Colab Notebooks/Telco-Churn.csv', index_col='customerID', na_values=' ')"
      ],
      "execution_count": null,
      "outputs": []
    },
    {
      "cell_type": "markdown",
      "metadata": {
        "id": "p18C_b6DmFfx"
      },
      "source": [
        "## 1.2 Check missing data"
      ]
    },
    {
      "cell_type": "code",
      "metadata": {
        "id": "bJwhqLaOmFfy"
      },
      "source": [
        "# Work here"
      ],
      "execution_count": null,
      "outputs": []
    },
    {
      "cell_type": "markdown",
      "metadata": {
        "id": "WF8PLF12mFf0"
      },
      "source": [
        "## 1.3 Fix missing data by filling with 0"
      ]
    },
    {
      "cell_type": "code",
      "metadata": {
        "id": "maCY9Q9cmFf2"
      },
      "source": [
        "# Work here"
      ],
      "execution_count": null,
      "outputs": []
    },
    {
      "cell_type": "markdown",
      "metadata": {
        "id": "84KJU-mFmFf4"
      },
      "source": [
        "## 1.4 Validate with there are no missing data"
      ]
    },
    {
      "cell_type": "code",
      "metadata": {
        "id": "Q3AszAftmFf7"
      },
      "source": [
        "# Work here"
      ],
      "execution_count": null,
      "outputs": []
    },
    {
      "cell_type": "code",
      "metadata": {
        "id": "5SXMn8I9mFf8",
        "colab": {
          "base_uri": "https://localhost:8080/"
        },
        "outputId": "929d9229-8f17-413d-eb6b-9fee702021ed"
      },
      "source": [
        "telcoData.isnull().any()"
      ],
      "execution_count": null,
      "outputs": [
        {
          "output_type": "execute_result",
          "data": {
            "text/plain": [
              "gender              False\n",
              "SeniorCitizen       False\n",
              "Partner             False\n",
              "Dependents          False\n",
              "tenure              False\n",
              "PhoneService        False\n",
              "MultipleLines       False\n",
              "InternetService     False\n",
              "OnlineSecurity      False\n",
              "OnlineBackup        False\n",
              "DeviceProtection    False\n",
              "TechSupport         False\n",
              "StreamingTV         False\n",
              "StreamingMovies     False\n",
              "Contract            False\n",
              "PaperlessBilling    False\n",
              "PaymentMethod       False\n",
              "MonthlyCharges      False\n",
              "TotalCharges         True\n",
              "Churn               False\n",
              "dtype: bool"
            ]
          },
          "metadata": {},
          "execution_count": 8
        }
      ]
    },
    {
      "cell_type": "markdown",
      "metadata": {
        "id": "iifuz609mFf9"
      },
      "source": [
        "# 2. Frequency table"
      ]
    },
    {
      "cell_type": "markdown",
      "metadata": {
        "id": "nFjI5m3_mFf9"
      },
      "source": [
        "## 2.1 Count"
      ]
    },
    {
      "cell_type": "code",
      "metadata": {
        "id": "Efp1rbP9mFf-",
        "colab": {
          "base_uri": "https://localhost:8080/",
          "height": 142
        },
        "outputId": "6bb212ad-1738-495b-98f7-5ac80911662d"
      },
      "source": [
        "pd.crosstab(telcoData['Churn'], columns='Count')"
      ],
      "execution_count": null,
      "outputs": [
        {
          "output_type": "execute_result",
          "data": {
            "text/html": [
              "<div>\n",
              "<style scoped>\n",
              "    .dataframe tbody tr th:only-of-type {\n",
              "        vertical-align: middle;\n",
              "    }\n",
              "\n",
              "    .dataframe tbody tr th {\n",
              "        vertical-align: top;\n",
              "    }\n",
              "\n",
              "    .dataframe thead th {\n",
              "        text-align: right;\n",
              "    }\n",
              "</style>\n",
              "<table border=\"1\" class=\"dataframe\">\n",
              "  <thead>\n",
              "    <tr style=\"text-align: right;\">\n",
              "      <th>col_0</th>\n",
              "      <th>Count</th>\n",
              "    </tr>\n",
              "    <tr>\n",
              "      <th>Churn</th>\n",
              "      <th></th>\n",
              "    </tr>\n",
              "  </thead>\n",
              "  <tbody>\n",
              "    <tr>\n",
              "      <th>No</th>\n",
              "      <td>5174</td>\n",
              "    </tr>\n",
              "    <tr>\n",
              "      <th>Yes</th>\n",
              "      <td>1869</td>\n",
              "    </tr>\n",
              "  </tbody>\n",
              "</table>\n",
              "</div>"
            ],
            "text/plain": [
              "col_0  Count\n",
              "Churn       \n",
              "No      5174\n",
              "Yes     1869"
            ]
          },
          "metadata": {},
          "execution_count": 9
        }
      ]
    },
    {
      "cell_type": "markdown",
      "metadata": {
        "id": "90n2dNflmFf-"
      },
      "source": [
        "## 2.2 Normalized frequency table"
      ]
    },
    {
      "cell_type": "code",
      "metadata": {
        "id": "1ioiRqmimFf_",
        "colab": {
          "base_uri": "https://localhost:8080/",
          "height": 142
        },
        "outputId": "176d201d-615a-435f-bdf6-5ceeb0f5d3bb"
      },
      "source": [
        "pd.crosstab(telcoData['Churn'], columns='Count', normalize='columns')"
      ],
      "execution_count": null,
      "outputs": [
        {
          "output_type": "execute_result",
          "data": {
            "text/html": [
              "<div>\n",
              "<style scoped>\n",
              "    .dataframe tbody tr th:only-of-type {\n",
              "        vertical-align: middle;\n",
              "    }\n",
              "\n",
              "    .dataframe tbody tr th {\n",
              "        vertical-align: top;\n",
              "    }\n",
              "\n",
              "    .dataframe thead th {\n",
              "        text-align: right;\n",
              "    }\n",
              "</style>\n",
              "<table border=\"1\" class=\"dataframe\">\n",
              "  <thead>\n",
              "    <tr style=\"text-align: right;\">\n",
              "      <th>col_0</th>\n",
              "      <th>Count</th>\n",
              "    </tr>\n",
              "    <tr>\n",
              "      <th>Churn</th>\n",
              "      <th></th>\n",
              "    </tr>\n",
              "  </thead>\n",
              "  <tbody>\n",
              "    <tr>\n",
              "      <th>No</th>\n",
              "      <td>0.73463</td>\n",
              "    </tr>\n",
              "    <tr>\n",
              "      <th>Yes</th>\n",
              "      <td>0.26537</td>\n",
              "    </tr>\n",
              "  </tbody>\n",
              "</table>\n",
              "</div>"
            ],
            "text/plain": [
              "col_0    Count\n",
              "Churn         \n",
              "No     0.73463\n",
              "Yes    0.26537"
            ]
          },
          "metadata": {},
          "execution_count": 10
        }
      ]
    },
    {
      "cell_type": "markdown",
      "metadata": {
        "id": "Pwaqw2N3mFf_"
      },
      "source": [
        "# 3. Barplot"
      ]
    },
    {
      "cell_type": "code",
      "metadata": {
        "id": "xEk5eYQLmFf_",
        "colab": {
          "base_uri": "https://localhost:8080/",
          "height": 297
        },
        "outputId": "d12bc59b-567a-4d80-9ca3-98c174850bf5"
      },
      "source": [
        "import seaborn as sns\n",
        "sns.countplot(data = telcoData, y = 'PaymentMethod')"
      ],
      "execution_count": null,
      "outputs": [
        {
          "output_type": "execute_result",
          "data": {
            "text/plain": [
              "<matplotlib.axes._subplots.AxesSubplot at 0x7f562a194210>"
            ]
          },
          "metadata": {},
          "execution_count": 11
        },
        {
          "output_type": "display_data",
          "data": {
            "image/png": "[encoded data removed]",
            "text/plain": [
              "<Figure size 432x288 with 1 Axes>"
            ]
          },
          "metadata": {
            "needs_background": "light"
          }
        }
      ]
    },
    {
      "cell_type": "code",
      "metadata": {
        "id": "B97o2NQFmFgA",
        "colab": {
          "base_uri": "https://localhost:8080/",
          "height": 297
        },
        "outputId": "d4e1d7d5-6c16-4166-ea37-0de633af569d"
      },
      "source": [
        "sns.countplot(data = telcoData, y = 'PaymentMethod', hue = 'Churn')"
      ],
      "execution_count": null,
      "outputs": [
        {
          "output_type": "execute_result",
          "data": {
            "text/plain": [
              "<matplotlib.axes._subplots.AxesSubplot at 0x7f562a107750>"
            ]
          },
          "metadata": {},
          "execution_count": 12
        },
        {
          "output_type": "display_data",
          "data": {
            "image/png": "[encoded data removed]",
            "text/plain": [
              "<Figure size 432x288 with 1 Axes>"
            ]
          },
          "metadata": {
            "needs_background": "light"
          }
        }
      ]
    },
    {
      "cell_type": "markdown",
      "metadata": {
        "id": "jM0sVnzvmFgA"
      },
      "source": [
        "# 4. Descriptive statisitcs"
      ]
    },
    {
      "cell_type": "code",
      "metadata": {
        "id": "YGDnHKn0mFgB",
        "colab": {
          "base_uri": "https://localhost:8080/",
          "height": 297
        },
        "outputId": "bad5af1b-21ed-4918-f476-e1d4cdf28f59"
      },
      "source": [
        "telcoData.describe()"
      ],
      "execution_count": null,
      "outputs": [
        {
          "output_type": "execute_result",
          "data": {
            "text/html": [
              "<div>\n",
              "<style scoped>\n",
              "    .dataframe tbody tr th:only-of-type {\n",
              "        vertical-align: middle;\n",
              "    }\n",
              "\n",
              "    .dataframe tbody tr th {\n",
              "        vertical-align: top;\n",
              "    }\n",
              "\n",
              "    .dataframe thead th {\n",
              "        text-align: right;\n",
              "    }\n",
              "</style>\n",
              "<table border=\"1\" class=\"dataframe\">\n",
              "  <thead>\n",
              "    <tr style=\"text-align: right;\">\n",
              "      <th></th>\n",
              "      <th>SeniorCitizen</th>\n",
              "      <th>tenure</th>\n",
              "      <th>MonthlyCharges</th>\n",
              "      <th>TotalCharges</th>\n",
              "    </tr>\n",
              "  </thead>\n",
              "  <tbody>\n",
              "    <tr>\n",
              "      <th>count</th>\n",
              "      <td>7043.000000</td>\n",
              "      <td>7043.000000</td>\n",
              "      <td>7043.000000</td>\n",
              "      <td>7032.000000</td>\n",
              "    </tr>\n",
              "    <tr>\n",
              "      <th>mean</th>\n",
              "      <td>0.162147</td>\n",
              "      <td>32.371149</td>\n",
              "      <td>64.761692</td>\n",
              "      <td>2283.300441</td>\n",
              "    </tr>\n",
              "    <tr>\n",
              "      <th>std</th>\n",
              "      <td>0.368612</td>\n",
              "      <td>24.559481</td>\n",
              "      <td>30.090047</td>\n",
              "      <td>2266.771362</td>\n",
              "    </tr>\n",
              "    <tr>\n",
              "      <th>min</th>\n",
              "      <td>0.000000</td>\n",
              "      <td>0.000000</td>\n",
              "      <td>18.250000</td>\n",
              "      <td>18.800000</td>\n",
              "    </tr>\n",
              "    <tr>\n",
              "      <th>25%</th>\n",
              "      <td>0.000000</td>\n",
              "      <td>9.000000</td>\n",
              "      <td>35.500000</td>\n",
              "      <td>401.450000</td>\n",
              "    </tr>\n",
              "    <tr>\n",
              "      <th>50%</th>\n",
              "      <td>0.000000</td>\n",
              "      <td>29.000000</td>\n",
              "      <td>70.350000</td>\n",
              "      <td>1397.475000</td>\n",
              "    </tr>\n",
              "    <tr>\n",
              "      <th>75%</th>\n",
              "      <td>0.000000</td>\n",
              "      <td>55.000000</td>\n",
              "      <td>89.850000</td>\n",
              "      <td>3794.737500</td>\n",
              "    </tr>\n",
              "    <tr>\n",
              "      <th>max</th>\n",
              "      <td>1.000000</td>\n",
              "      <td>72.000000</td>\n",
              "      <td>118.750000</td>\n",
              "      <td>8684.800000</td>\n",
              "    </tr>\n",
              "  </tbody>\n",
              "</table>\n",
              "</div>"
            ],
            "text/plain": [
              "       SeniorCitizen       tenure  MonthlyCharges  TotalCharges\n",
              "count    7043.000000  7043.000000     7043.000000   7032.000000\n",
              "mean        0.162147    32.371149       64.761692   2283.300441\n",
              "std         0.368612    24.559481       30.090047   2266.771362\n",
              "min         0.000000     0.000000       18.250000     18.800000\n",
              "25%         0.000000     9.000000       35.500000    401.450000\n",
              "50%         0.000000    29.000000       70.350000   1397.475000\n",
              "75%         0.000000    55.000000       89.850000   3794.737500\n",
              "max         1.000000    72.000000      118.750000   8684.800000"
            ]
          },
          "metadata": {},
          "execution_count": 13
        }
      ]
    },
    {
      "cell_type": "markdown",
      "metadata": {
        "id": "HplLDfowmFgB"
      },
      "source": [
        "# 5. Histogram"
      ]
    },
    {
      "cell_type": "markdown",
      "metadata": {
        "id": "BBtpEXqvmFgC"
      },
      "source": [
        "## 5.1 with Pandas"
      ]
    },
    {
      "cell_type": "code",
      "metadata": {
        "id": "FNIggr6MmFgC",
        "colab": {
          "base_uri": "https://localhost:8080/",
          "height": 297
        },
        "outputId": "ef9d8dc4-c88d-49a5-c388-1ba778f10393"
      },
      "source": [
        "import matplotlib.pyplot as plt\n",
        "telcoData['tenure'].hist(edgecolor='black')\n",
        "plt.xlabel('Tenure')\n",
        "plt.ylabel('Frequency')"
      ],
      "execution_count": null,
      "outputs": [
        {
          "output_type": "execute_result",
          "data": {
            "text/plain": [
              "Text(0, 0.5, 'Frequency')"
            ]
          },
          "metadata": {},
          "execution_count": 14
        },
        {
          "output_type": "display_data",
          "data": {
            "image/png": "[encoded data removed]",
            "text/plain": [
              "<Figure size 432x288 with 1 Axes>"
            ]
          },
          "metadata": {
            "needs_background": "light"
          }
        }
      ]
    },
    {
      "cell_type": "markdown",
      "metadata": {
        "id": "v1-jDHawmFgC"
      },
      "source": [
        "## 5.2 with seaborn"
      ]
    },
    {
      "cell_type": "code",
      "metadata": {
        "id": "s9s73bSamFgD",
        "colab": {
          "base_uri": "https://localhost:8080/",
          "height": 353
        },
        "outputId": "e6fd855d-b4a6-463a-87c2-9f16b0abac58"
      },
      "source": [
        "sns.distplot(telcoData['tenure'], \n",
        "             bins=20, \n",
        "             kde=False, \n",
        "             hist_kws={'edgecolor':'black'})"
      ],
      "execution_count": null,
      "outputs": [
        {
          "output_type": "stream",
          "text": [
            "/usr/local/lib/python3.7/dist-packages/seaborn/distributions.py:2557: FutureWarning: `distplot` is a deprecated function and will be removed in a future version. Please adapt your code to use either `displot` (a figure-level function with similar flexibility) or `histplot` (an axes-level function for histograms).\n",
            "  warnings.warn(msg, FutureWarning)\n"
          ],
          "name": "stderr"
        },
        {
          "output_type": "execute_result",
          "data": {
            "text/plain": [
              "<matplotlib.axes._subplots.AxesSubplot at 0x7f5629ff32d0>"
            ]
          },
          "metadata": {},
          "execution_count": 15
        },
        {
          "output_type": "display_data",
          "data": {
            "image/png": "[encoded data removed]",
            "text/plain": [
              "<Figure size 432x288 with 1 Axes>"
            ]
          },
          "metadata": {
            "needs_background": "light"
          }
        }
      ]
    },
    {
      "cell_type": "markdown",
      "metadata": {
        "id": "MMN5_27rmFgD"
      },
      "source": [
        "# 6. Crosstab"
      ]
    },
    {
      "cell_type": "markdown",
      "metadata": {
        "id": "K6OiuDfLmFgD"
      },
      "source": [
        "## 6.1 Crosstab"
      ]
    },
    {
      "cell_type": "code",
      "metadata": {
        "id": "TtkGVIdcmFgE",
        "colab": {
          "base_uri": "https://localhost:8080/",
          "height": 173
        },
        "outputId": "81f34b0c-188f-4b0f-a89c-31b7d16624f6"
      },
      "source": [
        "pd.crosstab( index = telcoData['Contract'],\n",
        "             columns = telcoData['Churn'])"
      ],
      "execution_count": null,
      "outputs": [
        {
          "output_type": "execute_result",
          "data": {
            "text/html": [
              "<div>\n",
              "<style scoped>\n",
              "    .dataframe tbody tr th:only-of-type {\n",
              "        vertical-align: middle;\n",
              "    }\n",
              "\n",
              "    .dataframe tbody tr th {\n",
              "        vertical-align: top;\n",
              "    }\n",
              "\n",
              "    .dataframe thead th {\n",
              "        text-align: right;\n",
              "    }\n",
              "</style>\n",
              "<table border=\"1\" class=\"dataframe\">\n",
              "  <thead>\n",
              "    <tr style=\"text-align: right;\">\n",
              "      <th>Churn</th>\n",
              "      <th>No</th>\n",
              "      <th>Yes</th>\n",
              "    </tr>\n",
              "    <tr>\n",
              "      <th>Contract</th>\n",
              "      <th></th>\n",
              "      <th></th>\n",
              "    </tr>\n",
              "  </thead>\n",
              "  <tbody>\n",
              "    <tr>\n",
              "      <th>Month-to-month</th>\n",
              "      <td>2220</td>\n",
              "      <td>1655</td>\n",
              "    </tr>\n",
              "    <tr>\n",
              "      <th>One year</th>\n",
              "      <td>1307</td>\n",
              "      <td>166</td>\n",
              "    </tr>\n",
              "    <tr>\n",
              "      <th>Two year</th>\n",
              "      <td>1647</td>\n",
              "      <td>48</td>\n",
              "    </tr>\n",
              "  </tbody>\n",
              "</table>\n",
              "</div>"
            ],
            "text/plain": [
              "Churn             No   Yes\n",
              "Contract                  \n",
              "Month-to-month  2220  1655\n",
              "One year        1307   166\n",
              "Two year        1647    48"
            ]
          },
          "metadata": {},
          "execution_count": 16
        }
      ]
    },
    {
      "cell_type": "markdown",
      "metadata": {
        "id": "aN-PeKT9mFgE"
      },
      "source": [
        "## 6.2 Normalized crosstab"
      ]
    },
    {
      "cell_type": "code",
      "metadata": {
        "id": "C6XtarJRmFgF",
        "colab": {
          "base_uri": "https://localhost:8080/",
          "height": 173
        },
        "outputId": "ee402c46-b10b-482d-efbf-70bb09182f04"
      },
      "source": [
        "pd.crosstab( index = telcoData['Contract'],\n",
        "             columns = telcoData['Churn'],\n",
        "             normalize=True)"
      ],
      "execution_count": null,
      "outputs": [
        {
          "output_type": "execute_result",
          "data": {
            "text/html": [
              "<div>\n",
              "<style scoped>\n",
              "    .dataframe tbody tr th:only-of-type {\n",
              "        vertical-align: middle;\n",
              "    }\n",
              "\n",
              "    .dataframe tbody tr th {\n",
              "        vertical-align: top;\n",
              "    }\n",
              "\n",
              "    .dataframe thead th {\n",
              "        text-align: right;\n",
              "    }\n",
              "</style>\n",
              "<table border=\"1\" class=\"dataframe\">\n",
              "  <thead>\n",
              "    <tr style=\"text-align: right;\">\n",
              "      <th>Churn</th>\n",
              "      <th>No</th>\n",
              "      <th>Yes</th>\n",
              "    </tr>\n",
              "    <tr>\n",
              "      <th>Contract</th>\n",
              "      <th></th>\n",
              "      <th></th>\n",
              "    </tr>\n",
              "  </thead>\n",
              "  <tbody>\n",
              "    <tr>\n",
              "      <th>Month-to-month</th>\n",
              "      <td>0.315207</td>\n",
              "      <td>0.234985</td>\n",
              "    </tr>\n",
              "    <tr>\n",
              "      <th>One year</th>\n",
              "      <td>0.185574</td>\n",
              "      <td>0.023570</td>\n",
              "    </tr>\n",
              "    <tr>\n",
              "      <th>Two year</th>\n",
              "      <td>0.233849</td>\n",
              "      <td>0.006815</td>\n",
              "    </tr>\n",
              "  </tbody>\n",
              "</table>\n",
              "</div>"
            ],
            "text/plain": [
              "Churn                 No       Yes\n",
              "Contract                          \n",
              "Month-to-month  0.315207  0.234985\n",
              "One year        0.185574  0.023570\n",
              "Two year        0.233849  0.006815"
            ]
          },
          "metadata": {},
          "execution_count": 17
        }
      ]
    },
    {
      "cell_type": "markdown",
      "metadata": {
        "id": "UKoN5BGAmFgF"
      },
      "source": [
        "## 6.3 Pivot table"
      ]
    },
    {
      "cell_type": "code",
      "metadata": {
        "id": "yzUK2-k7mFgF",
        "colab": {
          "base_uri": "https://localhost:8080/",
          "height": 452
        },
        "outputId": "5636c9ff-6b12-4ee9-fc8e-ca9da58f3ec8"
      },
      "source": [
        "import numpy as np\n",
        "pd.pivot_table(data = telcoData,\n",
        "               index = ['Contract','PaymentMethod'],\n",
        "               columns = 'Churn',\n",
        "               values = 'TotalCharges',\n",
        "               aggfunc= np.size)\\\n",
        "  .apply(lambda x: x/sum(x), axis = 1)"
      ],
      "execution_count": null,
      "outputs": [
        {
          "output_type": "execute_result",
          "data": {
            "text/html": [
              "<div>\n",
              "<style scoped>\n",
              "    .dataframe tbody tr th:only-of-type {\n",
              "        vertical-align: middle;\n",
              "    }\n",
              "\n",
              "    .dataframe tbody tr th {\n",
              "        vertical-align: top;\n",
              "    }\n",
              "\n",
              "    .dataframe thead th {\n",
              "        text-align: right;\n",
              "    }\n",
              "</style>\n",
              "<table border=\"1\" class=\"dataframe\">\n",
              "  <thead>\n",
              "    <tr style=\"text-align: right;\">\n",
              "      <th></th>\n",
              "      <th>Churn</th>\n",
              "      <th>No</th>\n",
              "      <th>Yes</th>\n",
              "    </tr>\n",
              "    <tr>\n",
              "      <th>Contract</th>\n",
              "      <th>PaymentMethod</th>\n",
              "      <th></th>\n",
              "      <th></th>\n",
              "    </tr>\n",
              "  </thead>\n",
              "  <tbody>\n",
              "    <tr>\n",
              "      <th rowspan=\"4\" valign=\"top\">Month-to-month</th>\n",
              "      <th>Bank transfer (automatic)</th>\n",
              "      <td>0.658744</td>\n",
              "      <td>0.341256</td>\n",
              "    </tr>\n",
              "    <tr>\n",
              "      <th>Credit card (automatic)</th>\n",
              "      <td>0.672192</td>\n",
              "      <td>0.327808</td>\n",
              "    </tr>\n",
              "    <tr>\n",
              "      <th>Electronic check</th>\n",
              "      <td>0.462703</td>\n",
              "      <td>0.537297</td>\n",
              "    </tr>\n",
              "    <tr>\n",
              "      <th>Mailed check</th>\n",
              "      <td>0.684211</td>\n",
              "      <td>0.315789</td>\n",
              "    </tr>\n",
              "    <tr>\n",
              "      <th rowspan=\"4\" valign=\"top\">One year</th>\n",
              "      <th>Bank transfer (automatic)</th>\n",
              "      <td>0.902813</td>\n",
              "      <td>0.097187</td>\n",
              "    </tr>\n",
              "    <tr>\n",
              "      <th>Credit card (automatic)</th>\n",
              "      <td>0.896985</td>\n",
              "      <td>0.103015</td>\n",
              "    </tr>\n",
              "    <tr>\n",
              "      <th>Electronic check</th>\n",
              "      <td>0.815562</td>\n",
              "      <td>0.184438</td>\n",
              "    </tr>\n",
              "    <tr>\n",
              "      <th>Mailed check</th>\n",
              "      <td>0.931751</td>\n",
              "      <td>0.068249</td>\n",
              "    </tr>\n",
              "    <tr>\n",
              "      <th rowspan=\"4\" valign=\"top\">Two year</th>\n",
              "      <th>Bank transfer (automatic)</th>\n",
              "      <td>0.966312</td>\n",
              "      <td>0.033688</td>\n",
              "    </tr>\n",
              "    <tr>\n",
              "      <th>Credit card (automatic)</th>\n",
              "      <td>0.977625</td>\n",
              "      <td>0.022375</td>\n",
              "    </tr>\n",
              "    <tr>\n",
              "      <th>Electronic check</th>\n",
              "      <td>0.922619</td>\n",
              "      <td>0.077381</td>\n",
              "    </tr>\n",
              "    <tr>\n",
              "      <th>Mailed check</th>\n",
              "      <td>0.992147</td>\n",
              "      <td>0.007853</td>\n",
              "    </tr>\n",
              "  </tbody>\n",
              "</table>\n",
              "</div>"
            ],
            "text/plain": [
              "Churn                                           No       Yes\n",
              "Contract       PaymentMethod                                \n",
              "Month-to-month Bank transfer (automatic)  0.658744  0.341256\n",
              "               Credit card (automatic)    0.672192  0.327808\n",
              "               Electronic check           0.462703  0.537297\n",
              "               Mailed check               0.684211  0.315789\n",
              "One year       Bank transfer (automatic)  0.902813  0.097187\n",
              "               Credit card (automatic)    0.896985  0.103015\n",
              "               Electronic check           0.815562  0.184438\n",
              "               Mailed check               0.931751  0.068249\n",
              "Two year       Bank transfer (automatic)  0.966312  0.033688\n",
              "               Credit card (automatic)    0.977625  0.022375\n",
              "               Electronic check           0.922619  0.077381\n",
              "               Mailed check               0.992147  0.007853"
            ]
          },
          "metadata": {},
          "execution_count": 18
        }
      ]
    },
    {
      "cell_type": "markdown",
      "metadata": {
        "id": "SBvesTUGmFgG"
      },
      "source": [
        "# 7. Stacked bar chart"
      ]
    },
    {
      "cell_type": "code",
      "metadata": {
        "id": "UHZ4WB4ImFgG"
      },
      "source": [
        "telcoData['tenure_bin'] = pd.qcut(telcoData['tenure'], q = 5)"
      ],
      "execution_count": null,
      "outputs": []
    },
    {
      "cell_type": "code",
      "metadata": {
        "id": "S1CyiqxumFgG",
        "colab": {
          "base_uri": "https://localhost:8080/",
          "height": 350
        },
        "outputId": "60f48ff8-4d87-4523-f226-edf5a325b31e"
      },
      "source": [
        "churnByTenure = pd.crosstab(index = telcoData['tenure_bin'],\n",
        "                            columns = telcoData['Churn'])\\\n",
        "                  .apply(lambda x: x/sum(x), axis = 1)\n",
        "churnByTenure.plot.bar(stacked = True).legend(bbox_to_anchor=(1.2, 0.5))"
      ],
      "execution_count": null,
      "outputs": [
        {
          "output_type": "execute_result",
          "data": {
            "text/plain": [
              "<matplotlib.legend.Legend at 0x7f5639380190>"
            ]
          },
          "metadata": {},
          "execution_count": 20
        },
        {
          "output_type": "display_data",
          "data": {
            "image/png": "[encoded data removed]",
            "text/plain": [
              "<Figure size 432x288 with 1 Axes>"
            ]
          },
          "metadata": {
            "needs_background": "light"
          }
        }
      ]
    },
    {
      "cell_type": "markdown",
      "metadata": {
        "id": "DWebGRyhmFgG"
      },
      "source": [
        "# 8. Boxplot"
      ]
    },
    {
      "cell_type": "code",
      "metadata": {
        "id": "EcTQO9S9mFgH",
        "colab": {
          "base_uri": "https://localhost:8080/",
          "height": 297
        },
        "outputId": "bdc8cd21-f183-48d1-9d32-bf8d9b5b9080"
      },
      "source": [
        "sns.boxplot(data = telcoData, x = 'Contract', y = 'TotalCharges')"
      ],
      "execution_count": null,
      "outputs": [
        {
          "output_type": "execute_result",
          "data": {
            "text/plain": [
              "<matplotlib.axes._subplots.AxesSubplot at 0x7f5e280ae4d0>"
            ]
          },
          "metadata": {},
          "execution_count": 12
        },
        {
          "output_type": "display_data",
          "data": {
            "image/png": "[encoded data removed]",
            "text/plain": [
              "<Figure size 432x288 with 1 Axes>"
            ]
          },
          "metadata": {
            "needs_background": "light"
          }
        }
      ]
    },
    {
      "cell_type": "markdown",
      "metadata": {
        "id": "wxLau9HhmFgH"
      },
      "source": [
        "# 9. Scatter plot"
      ]
    },
    {
      "cell_type": "markdown",
      "metadata": {
        "id": "2DDKuOYEmFgH"
      },
      "source": [
        "## 9.1 Non-aggregated scatter plot"
      ]
    },
    {
      "cell_type": "code",
      "metadata": {
        "id": "v680oAKlmFgH",
        "colab": {
          "base_uri": "https://localhost:8080/",
          "height": 297
        },
        "outputId": "909cc64f-f52f-4143-dbc2-a086236e7956"
      },
      "source": [
        "telcoData.plot.scatter(x = 'tenure', y = 'TotalCharges')"
      ],
      "execution_count": null,
      "outputs": [
        {
          "output_type": "execute_result",
          "data": {
            "text/plain": [
              "<matplotlib.axes._subplots.AxesSubplot at 0x7f562a09a610>"
            ]
          },
          "metadata": {},
          "execution_count": 21
        },
        {
          "output_type": "display_data",
          "data": {
            "image/png": "[encoded data removed]",
            "text/plain": [
              "<Figure size 432x288 with 1 Axes>"
            ]
          },
          "metadata": {
            "needs_background": "light"
          }
        }
      ]
    },
    {
      "cell_type": "markdown",
      "metadata": {
        "id": "-hKMcnL8mFgH"
      },
      "source": [
        "## 9.2 Aggregated scatter plot"
      ]
    },
    {
      "cell_type": "code",
      "metadata": {
        "id": "SzLC8QP2mFgI",
        "colab": {
          "base_uri": "https://localhost:8080/",
          "height": 297
        },
        "outputId": "f7363f9f-961a-47b6-c09b-fca4648f1051"
      },
      "source": [
        "telcoData1 = telcoData.groupby(['Contract','Churn'], as_index=False)\\\n",
        "                      .agg({'tenure':'mean', 'TotalCharges':'mean'})\n",
        "sns.scatterplot(data = telcoData1, \n",
        "                x = 'tenure', \n",
        "                y = 'TotalCharges', \n",
        "                hue = 'Churn', \n",
        "                style = 'Contract')"
      ],
      "execution_count": null,
      "outputs": [
        {
          "output_type": "execute_result",
          "data": {
            "text/plain": [
              "<matplotlib.axes._subplots.AxesSubplot at 0x7f5629e68910>"
            ]
          },
          "metadata": {},
          "execution_count": 22
        },
        {
          "output_type": "display_data",
          "data": {
            "image/png": "[encoded data removed]",
            "text/plain": [
              "<Figure size 432x288 with 1 Axes>"
            ]
          },
          "metadata": {
            "needs_background": "light"
          }
        }
      ]
    },
    {
      "cell_type": "markdown",
      "metadata": {
        "id": "4mDLeDBnmFgI"
      },
      "source": [
        "# 10. Correlation"
      ]
    },
    {
      "cell_type": "code",
      "metadata": {
        "id": "VspN4SIrmFgI",
        "colab": {
          "base_uri": "https://localhost:8080/",
          "height": 173
        },
        "outputId": "8b935c85-7cf8-47c2-a660-350192d219b1"
      },
      "source": [
        "telcoData.corr()"
      ],
      "execution_count": null,
      "outputs": [
        {
          "output_type": "execute_result",
          "data": {
            "text/html": [
              "<div>\n",
              "<style scoped>\n",
              "    .dataframe tbody tr th:only-of-type {\n",
              "        vertical-align: middle;\n",
              "    }\n",
              "\n",
              "    .dataframe tbody tr th {\n",
              "        vertical-align: top;\n",
              "    }\n",
              "\n",
              "    .dataframe thead th {\n",
              "        text-align: right;\n",
              "    }\n",
              "</style>\n",
              "<table border=\"1\" class=\"dataframe\">\n",
              "  <thead>\n",
              "    <tr style=\"text-align: right;\">\n",
              "      <th></th>\n",
              "      <th>SeniorCitizen</th>\n",
              "      <th>tenure</th>\n",
              "      <th>MonthlyCharges</th>\n",
              "      <th>TotalCharges</th>\n",
              "    </tr>\n",
              "  </thead>\n",
              "  <tbody>\n",
              "    <tr>\n",
              "      <th>SeniorCitizen</th>\n",
              "      <td>1.000000</td>\n",
              "      <td>0.016567</td>\n",
              "      <td>0.220173</td>\n",
              "      <td>0.102411</td>\n",
              "    </tr>\n",
              "    <tr>\n",
              "      <th>tenure</th>\n",
              "      <td>0.016567</td>\n",
              "      <td>1.000000</td>\n",
              "      <td>0.247900</td>\n",
              "      <td>0.825880</td>\n",
              "    </tr>\n",
              "    <tr>\n",
              "      <th>MonthlyCharges</th>\n",
              "      <td>0.220173</td>\n",
              "      <td>0.247900</td>\n",
              "      <td>1.000000</td>\n",
              "      <td>0.651065</td>\n",
              "    </tr>\n",
              "    <tr>\n",
              "      <th>TotalCharges</th>\n",
              "      <td>0.102411</td>\n",
              "      <td>0.825880</td>\n",
              "      <td>0.651065</td>\n",
              "      <td>1.000000</td>\n",
              "    </tr>\n",
              "  </tbody>\n",
              "</table>\n",
              "</div>"
            ],
            "text/plain": [
              "                SeniorCitizen    tenure  MonthlyCharges  TotalCharges\n",
              "SeniorCitizen        1.000000  0.016567        0.220173      0.102411\n",
              "tenure               0.016567  1.000000        0.247900      0.825880\n",
              "MonthlyCharges       0.220173  0.247900        1.000000      0.651065\n",
              "TotalCharges         0.102411  0.825880        0.651065      1.000000"
            ]
          },
          "metadata": {},
          "execution_count": 24
        }
      ]
    },
    {
      "cell_type": "markdown",
      "metadata": {
        "id": "WkY1T6B6mFgJ"
      },
      "source": [
        "# 11. Heatmap"
      ]
    },
    {
      "cell_type": "code",
      "metadata": {
        "id": "r-7AD_jqmFgJ",
        "colab": {
          "base_uri": "https://localhost:8080/",
          "height": 358
        },
        "outputId": "c92165eb-abb8-4ba5-90d7-00faabb64e46"
      },
      "source": [
        "sns.heatmap(telcoData.corr(), cmap = 'RdYlGn')"
      ],
      "execution_count": null,
      "outputs": [
        {
          "output_type": "execute_result",
          "data": {
            "text/plain": [
              "<matplotlib.axes._subplots.AxesSubplot at 0x7f5e30a8f750>"
            ]
          },
          "metadata": {},
          "execution_count": 10
        },
        {
          "output_type": "display_data",
          "data": {
            "image/png": "[encoded data removed]",
            "text/plain": [
              "<Figure size 432x288 with 2 Axes>"
            ]
          },
          "metadata": {
            "needs_background": "light"
          }
        }
      ]
    },
    {
      "cell_type": "code",
      "metadata": {
        "colab": {
          "base_uri": "https://localhost:8080/",
          "height": 134
        },
        "id": "QnnhDHir8wOQ",
        "outputId": "4ba0386c-312e-4a82-80bb-026b70a06b64"
      },
      "source": [
        "x(t)=2+cos([2π/3]t)+4sin([5π/3]t)\n",
        "x(t)"
      ],
      "execution_count": null,
      "outputs": [
        {
          "output_type": "error",
          "ename": "SyntaxError",
          "evalue": "ignored",
          "traceback": [
            "\u001b[0;36m  File \u001b[0;32m\"<ipython-input-4-ebf0ac233347>\"\u001b[0;36m, line \u001b[0;32m1\u001b[0m\n\u001b[0;31m    x(t)=2+cos([2π/3]t)+4sin([5π/3]t)\u001b[0m\n\u001b[0m                 ^\u001b[0m\n\u001b[0;31mSyntaxError\u001b[0m\u001b[0;31m:\u001b[0m invalid syntax\n"
          ]
        }
      ]
    },
    {
      "cell_type": "code",
      "metadata": {
        "id": "7QQlwVLW9BDD"
      },
      "source": [
        ""
      ],
      "execution_count": null,
      "outputs": []
    }
  ]
}